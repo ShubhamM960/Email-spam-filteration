{
 "cells": [
  {
   "cell_type": "markdown",
   "metadata": {},
   "source": [
    "# The following program demonstrates the classification of emial into spam or ham using NLTK and ML algorithms"
   ]
  },
  {
   "cell_type": "code",
   "execution_count": 47,
   "metadata": {},
   "outputs": [],
   "source": [
    "#importing the required libraries\n",
    "import numpy as np\n",
    "import pandas as pd\n",
    "import nltk\n",
    "import matplotlib.pyplot as plt\n",
    "from nltk.corpus import stopwords\n",
    "import string"
   ]
  },
  {
   "cell_type": "markdown",
   "metadata": {},
   "source": [
    "# Reading the Data"
   ]
  },
  {
   "cell_type": "code",
   "execution_count": 48,
   "metadata": {},
   "outputs": [
    {
     "data": {
      "text/html": [
       "<div>\n",
       "<style scoped>\n",
       "    .dataframe tbody tr th:only-of-type {\n",
       "        vertical-align: middle;\n",
       "    }\n",
       "\n",
       "    .dataframe tbody tr th {\n",
       "        vertical-align: top;\n",
       "    }\n",
       "\n",
       "    .dataframe thead th {\n",
       "        text-align: right;\n",
       "    }\n",
       "</style>\n",
       "<table border=\"1\" class=\"dataframe\">\n",
       "  <thead>\n",
       "    <tr style=\"text-align: right;\">\n",
       "      <th></th>\n",
       "      <th>type</th>\n",
       "      <th>text</th>\n",
       "      <th>Unnamed: 2</th>\n",
       "      <th>Unnamed: 3</th>\n",
       "      <th>Unnamed: 4</th>\n",
       "    </tr>\n",
       "  </thead>\n",
       "  <tbody>\n",
       "    <tr>\n",
       "      <th>0</th>\n",
       "      <td>ham</td>\n",
       "      <td>Go until jurong point, crazy.. Available only ...</td>\n",
       "      <td>NaN</td>\n",
       "      <td>NaN</td>\n",
       "      <td>NaN</td>\n",
       "    </tr>\n",
       "    <tr>\n",
       "      <th>1</th>\n",
       "      <td>ham</td>\n",
       "      <td>Ok lar... Joking wif u oni...</td>\n",
       "      <td>NaN</td>\n",
       "      <td>NaN</td>\n",
       "      <td>NaN</td>\n",
       "    </tr>\n",
       "    <tr>\n",
       "      <th>2</th>\n",
       "      <td>spam</td>\n",
       "      <td>Free entry in 2 a wkly comp to win FA Cup fina...</td>\n",
       "      <td>NaN</td>\n",
       "      <td>NaN</td>\n",
       "      <td>NaN</td>\n",
       "    </tr>\n",
       "    <tr>\n",
       "      <th>3</th>\n",
       "      <td>ham</td>\n",
       "      <td>U dun say so early hor... U c already then say...</td>\n",
       "      <td>NaN</td>\n",
       "      <td>NaN</td>\n",
       "      <td>NaN</td>\n",
       "    </tr>\n",
       "    <tr>\n",
       "      <th>4</th>\n",
       "      <td>ham</td>\n",
       "      <td>Nah I don't think he goes to usf, he lives aro...</td>\n",
       "      <td>NaN</td>\n",
       "      <td>NaN</td>\n",
       "      <td>NaN</td>\n",
       "    </tr>\n",
       "  </tbody>\n",
       "</table>\n",
       "</div>"
      ],
      "text/plain": [
       "   type                                               text Unnamed: 2  \\\n",
       "0   ham  Go until jurong point, crazy.. Available only ...        NaN   \n",
       "1   ham                      Ok lar... Joking wif u oni...        NaN   \n",
       "2  spam  Free entry in 2 a wkly comp to win FA Cup fina...        NaN   \n",
       "3   ham  U dun say so early hor... U c already then say...        NaN   \n",
       "4   ham  Nah I don't think he goes to usf, he lives aro...        NaN   \n",
       "\n",
       "  Unnamed: 3 Unnamed: 4  \n",
       "0        NaN        NaN  \n",
       "1        NaN        NaN  \n",
       "2        NaN        NaN  \n",
       "3        NaN        NaN  \n",
       "4        NaN        NaN  "
      ]
     },
     "execution_count": 48,
     "metadata": {},
     "output_type": "execute_result"
    }
   ],
   "source": [
    "#reading the data(CSV file)\n",
    "df=pd.read_csv(\"spam.csv\",encoding='latin1')\n",
    "df.head(5)"
   ]
  },
  {
   "cell_type": "code",
   "execution_count": 49,
   "metadata": {},
   "outputs": [
    {
     "data": {
      "text/html": [
       "<div>\n",
       "<style scoped>\n",
       "    .dataframe tbody tr th:only-of-type {\n",
       "        vertical-align: middle;\n",
       "    }\n",
       "\n",
       "    .dataframe tbody tr th {\n",
       "        vertical-align: top;\n",
       "    }\n",
       "\n",
       "    .dataframe thead th {\n",
       "        text-align: right;\n",
       "    }\n",
       "</style>\n",
       "<table border=\"1\" class=\"dataframe\">\n",
       "  <thead>\n",
       "    <tr style=\"text-align: right;\">\n",
       "      <th></th>\n",
       "      <th>type</th>\n",
       "      <th>text</th>\n",
       "    </tr>\n",
       "  </thead>\n",
       "  <tbody>\n",
       "    <tr>\n",
       "      <th>0</th>\n",
       "      <td>ham</td>\n",
       "      <td>Go until jurong point, crazy.. Available only ...</td>\n",
       "    </tr>\n",
       "    <tr>\n",
       "      <th>1</th>\n",
       "      <td>ham</td>\n",
       "      <td>Ok lar... Joking wif u oni...</td>\n",
       "    </tr>\n",
       "    <tr>\n",
       "      <th>2</th>\n",
       "      <td>spam</td>\n",
       "      <td>Free entry in 2 a wkly comp to win FA Cup fina...</td>\n",
       "    </tr>\n",
       "    <tr>\n",
       "      <th>3</th>\n",
       "      <td>ham</td>\n",
       "      <td>U dun say so early hor... U c already then say...</td>\n",
       "    </tr>\n",
       "    <tr>\n",
       "      <th>4</th>\n",
       "      <td>ham</td>\n",
       "      <td>Nah I don't think he goes to usf, he lives aro...</td>\n",
       "    </tr>\n",
       "  </tbody>\n",
       "</table>\n",
       "</div>"
      ],
      "text/plain": [
       "   type                                               text\n",
       "0   ham  Go until jurong point, crazy.. Available only ...\n",
       "1   ham                      Ok lar... Joking wif u oni...\n",
       "2  spam  Free entry in 2 a wkly comp to win FA Cup fina...\n",
       "3   ham  U dun say so early hor... U c already then say...\n",
       "4   ham  Nah I don't think he goes to usf, he lives aro..."
      ]
     },
     "execution_count": 49,
     "metadata": {},
     "output_type": "execute_result"
    }
   ],
   "source": [
    "df=df.drop(['Unnamed: 2','Unnamed: 3','Unnamed: 4'],axis=1)\n",
    "df.head()"
   ]
  },
  {
   "cell_type": "code",
   "execution_count": 50,
   "metadata": {},
   "outputs": [
    {
     "data": {
      "text/html": [
       "<div>\n",
       "<style scoped>\n",
       "    .dataframe tbody tr th:only-of-type {\n",
       "        vertical-align: middle;\n",
       "    }\n",
       "\n",
       "    .dataframe tbody tr th {\n",
       "        vertical-align: top;\n",
       "    }\n",
       "\n",
       "    .dataframe thead th {\n",
       "        text-align: right;\n",
       "    }\n",
       "</style>\n",
       "<table border=\"1\" class=\"dataframe\">\n",
       "  <thead>\n",
       "    <tr style=\"text-align: right;\">\n",
       "      <th></th>\n",
       "      <th>type</th>\n",
       "      <th>text</th>\n",
       "      <th>length</th>\n",
       "    </tr>\n",
       "  </thead>\n",
       "  <tbody>\n",
       "    <tr>\n",
       "      <th>0</th>\n",
       "      <td>ham</td>\n",
       "      <td>Go until jurong point, crazy.. Available only ...</td>\n",
       "      <td>111</td>\n",
       "    </tr>\n",
       "    <tr>\n",
       "      <th>1</th>\n",
       "      <td>ham</td>\n",
       "      <td>Ok lar... Joking wif u oni...</td>\n",
       "      <td>29</td>\n",
       "    </tr>\n",
       "    <tr>\n",
       "      <th>2</th>\n",
       "      <td>spam</td>\n",
       "      <td>Free entry in 2 a wkly comp to win FA Cup fina...</td>\n",
       "      <td>155</td>\n",
       "    </tr>\n",
       "    <tr>\n",
       "      <th>3</th>\n",
       "      <td>ham</td>\n",
       "      <td>U dun say so early hor... U c already then say...</td>\n",
       "      <td>49</td>\n",
       "    </tr>\n",
       "    <tr>\n",
       "      <th>4</th>\n",
       "      <td>ham</td>\n",
       "      <td>Nah I don't think he goes to usf, he lives aro...</td>\n",
       "      <td>61</td>\n",
       "    </tr>\n",
       "  </tbody>\n",
       "</table>\n",
       "</div>"
      ],
      "text/plain": [
       "   type                                               text  length\n",
       "0   ham  Go until jurong point, crazy.. Available only ...     111\n",
       "1   ham                      Ok lar... Joking wif u oni...      29\n",
       "2  spam  Free entry in 2 a wkly comp to win FA Cup fina...     155\n",
       "3   ham  U dun say so early hor... U c already then say...      49\n",
       "4   ham  Nah I don't think he goes to usf, he lives aro...      61"
      ]
     },
     "execution_count": 50,
     "metadata": {},
     "output_type": "execute_result"
    }
   ],
   "source": [
    "df['length']=df['text'].apply(len)\n",
    "df.head()"
   ]
  },
  {
   "cell_type": "code",
   "execution_count": 51,
   "metadata": {},
   "outputs": [
    {
     "data": {
      "text/plain": [
       "(5572, 3)"
      ]
     },
     "execution_count": 51,
     "metadata": {},
     "output_type": "execute_result"
    }
   ],
   "source": [
    "#printing the size of the dataset\n",
    "df.shape"
   ]
  },
  {
   "cell_type": "code",
   "execution_count": 52,
   "metadata": {},
   "outputs": [
    {
     "data": {
      "text/plain": [
       "Index(['type', 'text', 'length'], dtype='object')"
      ]
     },
     "execution_count": 52,
     "metadata": {},
     "output_type": "execute_result"
    }
   ],
   "source": [
    "#getting feature names\n",
    "df.columns"
   ]
  },
  {
   "cell_type": "code",
   "execution_count": 53,
   "metadata": {},
   "outputs": [
    {
     "data": {
      "text/plain": [
       "(5169, 3)"
      ]
     },
     "execution_count": 53,
     "metadata": {},
     "output_type": "execute_result"
    }
   ],
   "source": [
    "#checking the duplicates and remove them\n",
    "df.drop_duplicates(inplace=True)\n",
    "df.shape"
   ]
  },
  {
   "cell_type": "code",
   "execution_count": 54,
   "metadata": {},
   "outputs": [
    {
     "data": {
      "text/html": [
       "<div>\n",
       "<style scoped>\n",
       "    .dataframe tbody tr th:only-of-type {\n",
       "        vertical-align: middle;\n",
       "    }\n",
       "\n",
       "    .dataframe tbody tr th {\n",
       "        vertical-align: top;\n",
       "    }\n",
       "\n",
       "    .dataframe thead th {\n",
       "        text-align: right;\n",
       "    }\n",
       "</style>\n",
       "<table border=\"1\" class=\"dataframe\">\n",
       "  <thead>\n",
       "    <tr style=\"text-align: right;\">\n",
       "      <th></th>\n",
       "      <th>length</th>\n",
       "    </tr>\n",
       "  </thead>\n",
       "  <tbody>\n",
       "    <tr>\n",
       "      <th>count</th>\n",
       "      <td>5169.000000</td>\n",
       "    </tr>\n",
       "    <tr>\n",
       "      <th>mean</th>\n",
       "      <td>78.977945</td>\n",
       "    </tr>\n",
       "    <tr>\n",
       "      <th>std</th>\n",
       "      <td>58.236293</td>\n",
       "    </tr>\n",
       "    <tr>\n",
       "      <th>min</th>\n",
       "      <td>2.000000</td>\n",
       "    </tr>\n",
       "    <tr>\n",
       "      <th>25%</th>\n",
       "      <td>36.000000</td>\n",
       "    </tr>\n",
       "    <tr>\n",
       "      <th>50%</th>\n",
       "      <td>60.000000</td>\n",
       "    </tr>\n",
       "    <tr>\n",
       "      <th>75%</th>\n",
       "      <td>117.000000</td>\n",
       "    </tr>\n",
       "    <tr>\n",
       "      <th>max</th>\n",
       "      <td>910.000000</td>\n",
       "    </tr>\n",
       "  </tbody>\n",
       "</table>\n",
       "</div>"
      ],
      "text/plain": [
       "            length\n",
       "count  5169.000000\n",
       "mean     78.977945\n",
       "std      58.236293\n",
       "min       2.000000\n",
       "25%      36.000000\n",
       "50%      60.000000\n",
       "75%     117.000000\n",
       "max     910.000000"
      ]
     },
     "execution_count": 54,
     "metadata": {},
     "output_type": "execute_result"
    }
   ],
   "source": [
    "df.describe()"
   ]
  },
  {
   "cell_type": "code",
   "execution_count": 55,
   "metadata": {},
   "outputs": [
    {
     "data": {
      "text/plain": [
       "count    5169.000000\n",
       "mean       78.977945\n",
       "std        58.236293\n",
       "min         2.000000\n",
       "25%        36.000000\n",
       "50%        60.000000\n",
       "75%       117.000000\n",
       "max       910.000000\n",
       "Name: length, dtype: float64"
      ]
     },
     "execution_count": 55,
     "metadata": {},
     "output_type": "execute_result"
    }
   ],
   "source": [
    "df.length.describe()"
   ]
  },
  {
   "cell_type": "code",
   "execution_count": 56,
   "metadata": {},
   "outputs": [
    {
     "data": {
      "text/plain": [
       "\"For me the love should start with attraction.i should feel that I need her every time around me.she should be the first thing which comes in my thoughts.I would start the day and end it with her.she should be there every time I dream.love will be then when my every breath has her name.my life should happen around her.my life will be named to her.I would cry for her.will give all my happiness and take all her sorrows.I will be ready to fight with anyone for her.I will be in love when I will be doing the craziest things for her.love will be when I don't have to proove anyone that my girl is the most beautiful lady on the whole planet.I will always be singing praises for her.love will be when I start up making chicken curry and end up makiing sambar.life will be the most beautiful then.will get every morning and thank god for the day because she is with me.I would like to say a lot..will tell later..\""
      ]
     },
     "execution_count": 56,
     "metadata": {},
     "output_type": "execute_result"
    }
   ],
   "source": [
    "df[df['length']==910]['text'].iloc[0]"
   ]
  },
  {
   "cell_type": "code",
   "execution_count": 57,
   "metadata": {},
   "outputs": [
    {
     "data": {
      "text/plain": [
       "ham     4516\n",
       "spam     653\n",
       "Name: type, dtype: int64"
      ]
     },
     "execution_count": 57,
     "metadata": {},
     "output_type": "execute_result"
    }
   ],
   "source": [
    "df[\"type\"].value_counts()"
   ]
  },
  {
   "cell_type": "code",
   "execution_count": 58,
   "metadata": {},
   "outputs": [
    {
     "data": {
      "text/plain": [
       "type      0\n",
       "text      0\n",
       "length    0\n",
       "dtype: int64"
      ]
     },
     "execution_count": 58,
     "metadata": {},
     "output_type": "execute_result"
    }
   ],
   "source": [
    "#show the number of missing data(NAN,NaN,na) for each column\n",
    "df.isnull().sum()"
   ]
  },
  {
   "cell_type": "code",
   "execution_count": 63,
   "metadata": {},
   "outputs": [
    {
     "data": {
      "image/png": "[encoded data removed]",
      "text/plain": [
       "<Figure size 432x288 with 1 Axes>"
      ]
     },
     "metadata": {
      "needs_background": "light"
     },
     "output_type": "display_data"
    }
   ],
   "source": [
    "count_cls=pd.value_counts(df['type'],sort=True)\n",
    "count_cls.plot(kind='bar', color=[\"blue\",\"orange\"])\n",
    "plt.title('Bar Chart')\n",
    "plt.show()"
   ]
  },
  {
   "cell_type": "code",
   "execution_count": 65,
   "metadata": {},
   "outputs": [
    {
     "data": {
      "image/png": "[encoded data removed]",
      "text/plain": [
       "<Figure size 432x288 with 1 Axes>"
      ]
     },
     "metadata": {},
     "output_type": "display_data"
    }
   ],
   "source": [
    "count_cls.plot(kind= 'pie', autopct='%1.2f%%')\n",
    "\n",
    "plt.title('Pie Chart')\n",
    "plt.ylabel('')\n",
    "plt.show()"
   ]
  },
  {
   "cell_type": "markdown",
   "metadata": {},
   "source": [
    "# Message Preprocessing"
   ]
  },
  {
   "cell_type": "code",
   "execution_count": 8,
   "metadata": {},
   "outputs": [],
   "source": [
    "#function to tokenize each and every word\n",
    "def tokenizer(text):\n",
    "    tokenized=nltk.word_tokenize(text)\n",
    "    tokenized=' '.join(tokenized)\n",
    "    tokenized=tokenized.replace('n\\'t','not')\n",
    "    return tokenized\n",
    "                "
   ]
  },
  {
   "cell_type": "code",
   "execution_count": 32,
   "metadata": {},
   "outputs": [
    {
     "name": "stdout",
     "output_type": "stream",
     "text": [
      "['i', 'me', 'my', 'myself', 'we', 'our', 'ours', 'ourselves', 'you', \"you're\", \"you've\", \"you'll\", \"you'd\", 'your', 'yours', 'yourself', 'yourselves', 'he', 'him', 'his', 'himself', 'she', \"she's\", 'her', 'hers', 'herself', 'it', \"it's\", 'its', 'itself', 'they', 'them', 'their', 'theirs', 'themselves', 'what', 'which', 'who', 'whom', 'this', 'that', \"that'll\", 'these', 'those', 'am', 'is', 'are', 'was', 'were', 'be', 'been', 'being', 'have', 'has', 'had', 'having', 'do', 'does', 'did', 'doing', 'a', 'an', 'the', 'and', 'but', 'if', 'or', 'because', 'as', 'until', 'while', 'of', 'at', 'by', 'for', 'with', 'about', 'against', 'between', 'into', 'through', 'during', 'before', 'after', 'above', 'below', 'to', 'from', 'up', 'down', 'in', 'out', 'on', 'off', 'over', 'under', 'again', 'further', 'then', 'once', 'here', 'there', 'when', 'where', 'why', 'how', 'all', 'any', 'both', 'each', 'few', 'more', 'most', 'other', 'some', 'such', 'no', 'nor', 'not', 'only', 'own', 'same', 'so', 'than', 'too', 'very', 's', 't', 'can', 'will', 'just', 'don', \"don't\", 'should', \"should've\", 'now', 'd', 'll', 'm', 'o', 're', 've', 'y', 'ain', 'aren', \"aren't\", 'couldn', \"couldn't\", 'didn', \"didn't\", 'doesn', \"doesn't\", 'hadn', \"hadn't\", 'hasn', \"hasn't\", 'haven', \"haven't\", 'isn', \"isn't\", 'ma', 'mightn', \"mightn't\", 'mustn', \"mustn't\", 'needn', \"needn't\", 'shan', \"shan't\", 'shouldn', \"shouldn't\", 'wasn', \"wasn't\", 'weren', \"weren't\", 'won', \"won't\", 'wouldn', \"wouldn't\"]\n"
     ]
    },
    {
     "name": "stderr",
     "output_type": "stream",
     "text": [
      "[nltk_data] Downloading package stopwords to\n",
      "[nltk_data]     C:\\Users\\HP\\AppData\\Roaming\\nltk_data...\n",
      "[nltk_data]   Package stopwords is already up-to-date!\n"
     ]
    }
   ],
   "source": [
    "nltk.download('stopwords')\n",
    "stop=stopwords.words('english')\n",
    "print(stop)"
   ]
  },
  {
   "cell_type": "code",
   "execution_count": 33,
   "metadata": {},
   "outputs": [],
   "source": [
    "#creating a function to process punctuation and stopwords in the text data\n",
    "def process_stop_punc(text):\n",
    "    #remove punctuations\n",
    "    #remove stopwords\n",
    "    #return a list of clen text words\n",
    "    nopunc=[char for char in text if char not in string.punctuation]\n",
    "    nopunc=''.join(nopunc)\n",
    "    \n",
    "    clean_words=[word for word in nopunc.split() if word.lower() not in stopwords.words('english')] \n",
    "    #nopunc.split is use to get the tokens sepaately\n",
    "    \n",
    "    return clean_words"
   ]
  },
  {
   "cell_type": "code",
   "execution_count": 34,
   "metadata": {},
   "outputs": [],
   "source": [
    "#functions to convert words into single form i.e. converting plural to singular and past ,past continuous to present\n",
    "def stemming(List):\n",
    "    stem_obj=nltk.stem.PorterStemmer() # portstemmer-oldest and effiency is good\n",
    "    List=[stem_obj.stem(i) for i in List]\n",
    "    message=' '.join(List)\n",
    "    return message"
   ]
  },
  {
   "cell_type": "code",
   "execution_count": 35,
   "metadata": {},
   "outputs": [],
   "source": [
    "#function to compile each and every operation\n",
    "def process(text):\n",
    "    return stemming(process_stop_punc(tokenizer(text)))"
   ]
  },
  {
   "cell_type": "code",
   "execution_count": 36,
   "metadata": {},
   "outputs": [
    {
     "data": {
      "text/plain": [
       "0    Go jurong point crazi avail bugi n great world...\n",
       "1                                Ok lar joke wif u oni\n",
       "2    free entri 2 wkli comp win FA cup final tkt 21...\n",
       "3                  U dun say earli hor U c alreadi say\n",
       "4                 nah think goe usf live around though\n",
       "Name: text, dtype: object"
      ]
     },
     "execution_count": 36,
     "metadata": {},
     "output_type": "execute_result"
    }
   ],
   "source": [
    "#show the tokenization\n",
    "df['text'].head().apply(process)"
   ]
  },
  {
   "cell_type": "markdown",
   "metadata": {},
   "source": [
    "# Vectorizing the words"
   ]
  },
  {
   "cell_type": "code",
   "execution_count": 37,
   "metadata": {},
   "outputs": [],
   "source": [
    "#convert a collection of data to matrix of tokens using tf-idf vectorizer\n",
    "import sklearn\n",
    "from sklearn.feature_extraction.text import TfidfVectorizer\n",
    "message=TfidfVectorizer(analyzer=process).fit_transform(df['text'])"
   ]
  },
  {
   "cell_type": "code",
   "execution_count": 38,
   "metadata": {},
   "outputs": [
    {
     "data": {
      "text/plain": [
       "(5169, 90)"
      ]
     },
     "execution_count": 38,
     "metadata": {},
     "output_type": "execute_result"
    }
   ],
   "source": [
    "#getting the shape of message\n",
    "message.shape"
   ]
  },
  {
   "cell_type": "code",
   "execution_count": 39,
   "metadata": {},
   "outputs": [],
   "source": [
    "#using countvectorizer\n",
    "from sklearn.feature_extraction.text import CountVectorizer\n",
    "message1=CountVectorizer(analyzer=process).fit_transform(df['text'])\n"
   ]
  },
  {
   "cell_type": "code",
   "execution_count": 40,
   "metadata": {},
   "outputs": [
    {
     "data": {
      "text/plain": [
       "{'go': 3550,\n",
       " 'until': 8030,\n",
       " 'jurong': 4350,\n",
       " 'point': 5920,\n",
       " 'crazy': 2327,\n",
       " 'available': 1303,\n",
       " 'only': 5537,\n",
       " 'in': 4087,\n",
       " 'bugis': 1751,\n",
       " 'great': 3634,\n",
       " 'world': 8489,\n",
       " 'la': 4476,\n",
       " 'buffet': 1749,\n",
       " 'cine': 2048,\n",
       " 'there': 7645,\n",
       " 'got': 3594,\n",
       " 'amore': 1069,\n",
       " 'wat': 8267,\n",
       " 'ok': 5504,\n",
       " 'lar': 4512,\n",
       " 'joking': 4318,\n",
       " 'wif': 8392,\n",
       " 'oni': 5533,\n",
       " 'free': 3358,\n",
       " 'entry': 2949,\n",
       " 'wkly': 8447,\n",
       " 'comp': 2165,\n",
       " 'to': 7756,\n",
       " 'win': 8405,\n",
       " 'fa': 3087,\n",
       " 'cup': 2386,\n",
       " 'final': 3207,\n",
       " 'tkts': 7743,\n",
       " '21st': 411,\n",
       " 'may': 4930,\n",
       " '2005': 402,\n",
       " 'text': 7595,\n",
       " '87121': 784,\n",
       " 'receive': 6297,\n",
       " 'question': 6190,\n",
       " 'std': 7230,\n",
       " 'txt': 7933,\n",
       " 'rate': 6242,\n",
       " 'apply': 1156,\n",
       " '08452810075over18': 77,\n",
       " 'dun': 2802,\n",
       " 'say': 6633,\n",
       " 'so': 7024,\n",
       " 'early': 2823,\n",
       " 'hor': 3927,\n",
       " 'already': 1042,\n",
       " 'then': 7640,\n",
       " 'nah': 5238,\n",
       " 'don': 2712,\n",
       " 'think': 7660,\n",
       " 'he': 3781,\n",
       " 'goes': 3558,\n",
       " 'usf': 8075,\n",
       " 'lives': 4665,\n",
       " 'around': 1207,\n",
       " 'here': 3831,\n",
       " 'though': 7680,\n",
       " 'freemsg': 3365,\n",
       " 'hey': 3841,\n",
       " 'darling': 2443,\n",
       " 'it': 4218,\n",
       " 'been': 1460,\n",
       " 'week': 8313,\n",
       " 'now': 5420,\n",
       " 'and': 1084,\n",
       " 'no': 5367,\n",
       " 'word': 8480,\n",
       " 'back': 1351,\n",
       " 'like': 4615,\n",
       " 'some': 7039,\n",
       " 'fun': 3419,\n",
       " 'you': 8609,\n",
       " 'up': 8032,\n",
       " 'for': 3308,\n",
       " 'still': 7253,\n",
       " 'tb': 7529,\n",
       " 'xxx': 8555,\n",
       " 'chgs': 2002,\n",
       " 'send': 6723,\n",
       " '50': 607,\n",
       " 'rcv': 6255,\n",
       " 'even': 2998,\n",
       " 'my': 5223,\n",
       " 'brother': 1722,\n",
       " 'is': 4206,\n",
       " 'not': 5405,\n",
       " 'speak': 7112,\n",
       " 'with': 8433,\n",
       " 'me': 4939,\n",
       " 'they': 7653,\n",
       " 'treat': 7863,\n",
       " 'aids': 992,\n",
       " 'patent': 5722,\n",
       " 'as': 1224,\n",
       " 'per': 5764,\n",
       " 'your': 8615,\n",
       " 'request': 6406,\n",
       " 'melle': 4969,\n",
       " 'oru': 5593,\n",
       " 'minnaminunginte': 5036,\n",
       " 'nurungu': 5440,\n",
       " 'vettam': 8131,\n",
       " 'has': 3757,\n",
       " 'set': 6750,\n",
       " 'callertune': 1823,\n",
       " 'all': 1029,\n",
       " 'callers': 1822,\n",
       " 'press': 6041,\n",
       " 'copy': 2266,\n",
       " 'friends': 3381,\n",
       " 'winner': 8416,\n",
       " 'valued': 8100,\n",
       " 'network': 5317,\n",
       " 'customer': 2399,\n",
       " 'have': 3770,\n",
       " 'selected': 6709,\n",
       " 'receivea': 6298,\n",
       " '900': 816,\n",
       " 'prize': 6073,\n",
       " 'reward': 6461,\n",
       " 'claim': 2054,\n",
       " 'call': 1813,\n",
       " '09061701461': 224,\n",
       " 'code': 2120,\n",
       " 'kl341': 4439,\n",
       " 'valid': 8096,\n",
       " '12': 322,\n",
       " 'hours': 3947,\n",
       " 'had': 3699,\n",
       " 'mobile': 5089,\n",
       " '11': 312,\n",
       " 'months': 5129,\n",
       " 'or': 5570,\n",
       " 'more': 5133,\n",
       " 'entitled': 2946,\n",
       " 'update': 8037,\n",
       " 'the': 7627,\n",
       " 'latest': 4526,\n",
       " 'colour': 2141,\n",
       " 'mobiles': 5090,\n",
       " 'camera': 1835,\n",
       " 'co': 2109,\n",
       " 'on': 5525,\n",
       " '08002986030': 61,\n",
       " 'gonna': 3574,\n",
       " 'be': 1438,\n",
       " 'home': 3901,\n",
       " 'soon': 7066,\n",
       " 'want': 8245,\n",
       " 'talk': 7496,\n",
       " 'about': 859,\n",
       " 'this': 7669,\n",
       " 'stuff': 7320,\n",
       " 'anymore': 1123,\n",
       " 'tonight': 7792,\n",
       " 've': 8115,\n",
       " 'cried': 2344,\n",
       " 'enough': 2936,\n",
       " 'today': 7763,\n",
       " 'six': 6928,\n",
       " 'chances': 1943,\n",
       " 'cash': 1889,\n",
       " 'from': 3397,\n",
       " '100': 298,\n",
       " '20': 397,\n",
       " '000': 1,\n",
       " 'pounds': 5982,\n",
       " 'csh11': 2363,\n",
       " '87575': 789,\n",
       " 'cost': 2278,\n",
       " '150p': 351,\n",
       " 'day': 2458,\n",
       " '6days': 680,\n",
       " '16': 363,\n",
       " 'tsandcs': 7898,\n",
       " 'reply': 6399,\n",
       " 'hl': 3873,\n",
       " 'info': 4122,\n",
       " 'urgent': 8055,\n",
       " 'won': 8464,\n",
       " 'membership': 4975,\n",
       " 'our': 5606,\n",
       " 'jackpot': 4247,\n",
       " '81010': 737,\n",
       " 'www': 8537,\n",
       " 'dbuk': 2463,\n",
       " 'net': 5311,\n",
       " 'lccltd': 4543,\n",
       " 'pobox': 5899,\n",
       " '4403ldnw1a7rw18': 559,\n",
       " 'searching': 6678,\n",
       " 'right': 6473,\n",
       " 'words': 8481,\n",
       " 'thank': 7612,\n",
       " 'breather': 1691,\n",
       " 'promise': 6105,\n",
       " 'wont': 8471,\n",
       " 'take': 7488,\n",
       " 'help': 3817,\n",
       " 'granted': 3623,\n",
       " 'will': 8402,\n",
       " 'fulfil': 3415,\n",
       " 'wonderful': 8468,\n",
       " 'blessing': 1567,\n",
       " 'at': 1260,\n",
       " 'times': 7722,\n",
       " 'date': 2451,\n",
       " 'sunday': 7388,\n",
       " 'xxxmobilemovieclub': 8556,\n",
       " 'use': 8069,\n",
       " 'credit': 2334,\n",
       " 'click': 2077,\n",
       " 'wap': 8250,\n",
       " 'link': 4637,\n",
       " 'next': 5334,\n",
       " 'message': 4993,\n",
       " 'http': 3968,\n",
       " 'com': 2144,\n",
       " 'qjkgighjjgcbl': 6182,\n",
       " 'oh': 5499,\n",
       " 'watching': 8272,\n",
       " 'eh': 2870,\n",
       " 'remember': 6366,\n",
       " 'how': 3953,\n",
       " 'spell': 7127,\n",
       " 'his': 3864,\n",
       " 'name': 5244,\n",
       " 'yes': 8592,\n",
       " 'did': 2592,\n",
       " 'naughty': 5271,\n",
       " 'make': 4848,\n",
       " 'wet': 8350,\n",
       " 'fine': 3215,\n",
       " 'if': 4041,\n",
       " 'thatåõs': 7625,\n",
       " 'way': 8284,\n",
       " 'feel': 3158,\n",
       " 'its': 4225,\n",
       " 'gota': 3595,\n",
       " 'england': 2927,\n",
       " 'macedonia': 4810,\n",
       " 'dont': 2716,\n",
       " 'miss': 5052,\n",
       " 'goals': 3554,\n",
       " 'team': 7541,\n",
       " 'news': 5330,\n",
       " 'ur': 8051,\n",
       " 'national': 5265,\n",
       " '87077': 783,\n",
       " 'eg': 2865,\n",
       " 'try': 7894,\n",
       " 'wales': 8225,\n",
       " 'scotland': 6657,\n",
       " '4txt': 599,\n",
       " 'ì¼1': 8659,\n",
       " 'poboxox36504w45wq': 5911,\n",
       " 'that': 7621,\n",
       " 'seriously': 6743,\n",
       " 'going': 3563,\n",
       " 'ha': 3695,\n",
       " 'ì_': 8658,\n",
       " 'pay': 5734,\n",
       " 'first': 3232,\n",
       " 'when': 8362,\n",
       " 'da': 2416,\n",
       " 'stock': 7256,\n",
       " 'comin': 2155,\n",
       " 'aft': 962,\n",
       " 'finish': 3218,\n",
       " 'lunch': 4776,\n",
       " 'str': 7281,\n",
       " 'down': 2737,\n",
       " 'lor': 4719,\n",
       " 'ard': 1182,\n",
       " 'smth': 7007,\n",
       " 'ffffffffff': 3177,\n",
       " 'alright': 1043,\n",
       " 'can': 1839,\n",
       " 'meet': 4958,\n",
       " 'sooner': 7067,\n",
       " 'just': 4352,\n",
       " 'forced': 3310,\n",
       " 'myself': 5228,\n",
       " 'eat': 2835,\n",
       " 'slice': 6959,\n",
       " 'really': 6280,\n",
       " 'hungry': 3988,\n",
       " 'tho': 7676,\n",
       " 'sucks': 7357,\n",
       " 'mark': 4885,\n",
       " 'getting': 3511,\n",
       " 'worried': 8492,\n",
       " 'knows': 4450,\n",
       " 'sick': 6877,\n",
       " 'turn': 7917,\n",
       " 'pizza': 5854,\n",
       " 'lol': 4696,\n",
       " 'always': 1052,\n",
       " 'convincing': 2254,\n",
       " 'catch': 1899,\n",
       " 'bus': 1771,\n",
       " 'are': 1183,\n",
       " 'frying': 3403,\n",
       " 'an': 1079,\n",
       " 'egg': 2867,\n",
       " 'tea': 7535,\n",
       " 'eating': 2838,\n",
       " 'mom': 5110,\n",
       " 'left': 4566,\n",
       " 'over': 5627,\n",
       " 'dinner': 2624,\n",
       " 'do': 2675,\n",
       " 'love': 4740,\n",
       " 'amp': 1071,\n",
       " 'we': 8289,\n",
       " 're': 6259,\n",
       " 'packing': 5653,\n",
       " 'car': 1861,\n",
       " 'll': 4669,\n",
       " 'let': 4587,\n",
       " 'know': 4447,\n",
       " 'room': 6514,\n",
       " 'ahhh': 987,\n",
       " 'work': 8482,\n",
       " 'vaguely': 8092,\n",
       " 'what': 8355,\n",
       " 'does': 2687,\n",
       " 'wait': 8219,\n",
       " 'clear': 2071,\n",
       " 'were': 8339,\n",
       " 'sure': 7414,\n",
       " 'being': 1478,\n",
       " 'sarcastic': 6613,\n",
       " 'why': 8385,\n",
       " 'doesn': 2689,\n",
       " 'live': 4661,\n",
       " 'us': 8065,\n",
       " 'yeah': 8580,\n",
       " 'was': 8259,\n",
       " 'apologetic': 1143,\n",
       " 'fallen': 3112,\n",
       " 'out': 5609,\n",
       " 'she': 6795,\n",
       " 'actin': 904,\n",
       " 'spoilt': 7154,\n",
       " 'child': 2010,\n",
       " 'caught': 1903,\n",
       " 'till': 7719,\n",
       " 'but': 1778,\n",
       " 'doing': 2702,\n",
       " 'too': 7796,\n",
       " 'badly': 1356,\n",
       " 'cheers': 1986,\n",
       " 'tell': 7559,\n",
       " 'anything': 1129,\n",
       " 'fear': 3150,\n",
       " 'of': 5477,\n",
       " 'fainting': 3104,\n",
       " 'housework': 3951,\n",
       " 'quick': 6193,\n",
       " 'cuppa': 2388,\n",
       " 'thanks': 7613,\n",
       " 'subscription': 7345,\n",
       " 'ringtone': 6482,\n",
       " 'uk': 7963,\n",
       " 'charged': 1955,\n",
       " 'month': 5126,\n",
       " 'please': 5879,\n",
       " 'confirm': 2209,\n",
       " 'by': 1794,\n",
       " 'replying': 6400,\n",
       " 'yup': 8637,\n",
       " 'look': 4707,\n",
       " 'timings': 7726,\n",
       " 'msg': 5168,\n",
       " 'again': 970,\n",
       " 'xuhui': 8551,\n",
       " 'learn': 4556,\n",
       " '2nd': 461,\n",
       " 'her': 3830,\n",
       " 'lesson': 4585,\n",
       " '8am': 809,\n",
       " 'oops': 5548,\n",
       " 'roommate': 6516,\n",
       " 'done': 2714,\n",
       " 'see': 6695,\n",
       " 'letter': 4589,\n",
       " 'decide': 2481,\n",
       " 'hello': 3814,\n",
       " 'saturday': 6625,\n",
       " 'texting': 7603,\n",
       " 'decided': 2482,\n",
       " 'tomo': 7781,\n",
       " 'trying': 7896,\n",
       " 'invite': 4180,\n",
       " 'pls': 5887,\n",
       " 'ahead': 986,\n",
       " 'watts': 8280,\n",
       " 'wanted': 8247,\n",
       " 'weekend': 8315,\n",
       " 'abiola': 855,\n",
       " 'forget': 3316,\n",
       " 'need': 5291,\n",
       " 'crave': 2324,\n",
       " 'most': 5141,\n",
       " 'sweet': 7445,\n",
       " 'arabian': 1179,\n",
       " 'steed': 7237,\n",
       " 'mmmmmm': 5079,\n",
       " 'yummy': 8632,\n",
       " '07732584351': 30,\n",
       " 'rodger': 6504,\n",
       " 'burns': 1768,\n",
       " 'tried': 7872,\n",
       " 'sms': 7002,\n",
       " 'nokia': 5377,\n",
       " 'camcorder': 1833,\n",
       " '08000930705': 57,\n",
       " 'delivery': 2521,\n",
       " 'tomorrow': 7783,\n",
       " 'who': 8378,\n",
       " 'seeing': 6697,\n",
       " 'hope': 3919,\n",
       " 'man': 4858,\n",
       " 'well': 8330,\n",
       " 'endowed': 2917,\n",
       " 'am': 1054,\n",
       " 'lt': 4763,\n",
       " 'gt': 3663,\n",
       " 'inches': 4091,\n",
       " 'calls': 1828,\n",
       " 'messages': 4995,\n",
       " 'missed': 5054,\n",
       " 'didn': 2594,\n",
       " 'get': 3503,\n",
       " 'hep': 3829,\n",
       " 'immunisation': 4070,\n",
       " 'nigeria': 5344,\n",
       " 'fair': 3105,\n",
       " 'hopefully': 3922,\n",
       " 'tyler': 7946,\n",
       " 'could': 2289,\n",
       " 'maybe': 4932,\n",
       " 'ask': 1234,\n",
       " 'bit': 1544,\n",
       " 'stubborn': 7309,\n",
       " 'hospital': 3934,\n",
       " 'kept': 4396,\n",
       " 'telling': 7560,\n",
       " 'weak': 8290,\n",
       " 'sucker': 7355,\n",
       " 'hospitals': 3935,\n",
       " 'suckers': 7356,\n",
       " 'thinked': 7661,\n",
       " 'time': 7721,\n",
       " 'saw': 6632,\n",
       " 'class': 2063,\n",
       " 'gram': 3615,\n",
       " 'usually': 8081,\n",
       " 'runs': 6557,\n",
       " 'half': 3711,\n",
       " 'eighth': 2873,\n",
       " 'smarter': 6982,\n",
       " 'gets': 3507,\n",
       " 'almost': 1038,\n",
       " 'whole': 8379,\n",
       " 'second': 6682,\n",
       " 'fyi': 3435,\n",
       " 'ride': 6472,\n",
       " 'morning': 5137,\n",
       " 'crashing': 2323,\n",
       " 'place': 5856,\n",
       " 'wow': 8508,\n",
       " 'never': 5321,\n",
       " 'realized': 6278,\n",
       " 'embarassed': 2898,\n",
       " 'accomodations': 886,\n",
       " 'thought': 7681,\n",
       " 'liked': 4616,\n",
       " 'since': 6902,\n",
       " 'best': 1498,\n",
       " 'seemed': 6701,\n",
       " 'happy': 3746,\n",
       " 'cave': 1907,\n",
       " 'sorry': 7076,\n",
       " 'give': 3532,\n",
       " 'offered': 5484,\n",
       " 'embarassing': 2899,\n",
       " 'ac': 872,\n",
       " 'sptv': 7176,\n",
       " 'new': 5325,\n",
       " 'jersey': 4288,\n",
       " 'devils': 2573,\n",
       " 'detroit': 2567,\n",
       " 'red': 6320,\n",
       " 'wings': 8414,\n",
       " 'play': 5870,\n",
       " 'ice': 4022,\n",
       " 'hockey': 3886,\n",
       " 'correct': 2271,\n",
       " 'incorrect': 4102,\n",
       " 'end': 2913,\n",
       " 'mallika': 4857,\n",
       " 'sherawat': 6802,\n",
       " 'yesterday': 8594,\n",
       " 'find': 3212,\n",
       " 'url': 8061,\n",
       " 'congrats': 2215,\n",
       " 'year': 8581,\n",
       " 'special': 7114,\n",
       " 'cinema': 2049,\n",
       " 'pass': 5711,\n",
       " 'yours': 8619,\n",
       " '09061209465': 219,\n",
       " 'suprman': 7412,\n",
       " 'matrix3': 4918,\n",
       " 'starwars3': 7218,\n",
       " 'etc': 2986,\n",
       " 'bx420': 1792,\n",
       " 'ip4': 4189,\n",
       " '5we': 641,\n",
       " '150pm': 353,\n",
       " 'later': 4525,\n",
       " 'meeting': 4960,\n",
       " 'where': 8366,\n",
       " 'reached': 6262,\n",
       " 'gauti': 3469,\n",
       " 'sehwag': 6706,\n",
       " 'odi': 5476,\n",
       " 'series': 6741,\n",
       " 'pick': 5826,\n",
       " 'burger': 1763,\n",
       " 'yourself': 8620,\n",
       " 'move': 5154,\n",
       " 'pain': 5660,\n",
       " 'killing': 4421,\n",
       " 'good': 3576,\n",
       " 'joke': 4314,\n",
       " 'girls': 3529,\n",
       " 'situation': 6925,\n",
       " 'seekers': 6698,\n",
       " 'part': 5700,\n",
       " 'checking': 1980,\n",
       " 'iq': 4195,\n",
       " 'roommates': 6517,\n",
       " 'took': 7797,\n",
       " 'forever': 3313,\n",
       " 'come': 2150,\n",
       " 'double': 2730,\n",
       " 'check': 1976,\n",
       " 'hair': 3706,\n",
       " 'dresser': 2760,\n",
       " 'said': 6583,\n",
       " 'wun': 8536,\n",
       " 'cut': 2403,\n",
       " 'short': 6837,\n",
       " 'nice': 5338,\n",
       " 'pleased': 5880,\n",
       " 'advise': 945,\n",
       " 'following': 3291,\n",
       " 'recent': 6301,\n",
       " 'review': 6459,\n",
       " 'mob': 5087,\n",
       " 'awarded': 1320,\n",
       " '1500': 350,\n",
       " 'bonus': 1608,\n",
       " '09066364589': 267,\n",
       " 'song': 7061,\n",
       " 'dedicated': 2492,\n",
       " 'which': 8372,\n",
       " 'dedicate': 2491,\n",
       " 'valuable': 8098,\n",
       " 'frnds': 3389,\n",
       " 'rply': 6533,\n",
       " 'complimentary': 2184,\n",
       " 'trip': 7873,\n",
       " 'eurodisinc': 2992,\n",
       " 'trav': 7855,\n",
       " 'aco': 900,\n",
       " 'entry41': 2950,\n",
       " '1000': 299,\n",
       " 'dis': 2636,\n",
       " '18': 368,\n",
       " 'morefrmmob': 5134,\n",
       " 'shracomorsglsuplt': 6862,\n",
       " '10': 297,\n",
       " 'ls1': 4759,\n",
       " '3aj': 518,\n",
       " 'hear': 3793,\n",
       " 'divorce': 2665,\n",
       " 'barbie': 1387,\n",
       " 'comes': 2152,\n",
       " 'ken': 4394,\n",
       " 'plane': 5862,\n",
       " 'wah': 8212,\n",
       " 'lucky': 4770,\n",
       " 'save': 6628,\n",
       " 'money': 5117,\n",
       " 'hee': 3806,\n",
       " 'finished': 3220,\n",
       " 'hi': 3846,\n",
       " 'babe': 1342,\n",
       " 'im': 4058,\n",
       " 'wanna': 8243,\n",
       " 'something': 7049,\n",
       " 'xx': 8552,\n",
       " 'performed': 5771,\n",
       " 'waiting': 8222,\n",
       " 'machan': 4812,\n",
       " 'once': 5529,\n",
       " 'thats': 7624,\n",
       " 'cool': 2259,\n",
       " 'gentleman': 3494,\n",
       " 'dignity': 2614,\n",
       " 'respect': 6426,\n",
       " 'peoples': 5763,\n",
       " 'very': 8130,\n",
       " 'much': 5186,\n",
       " 'shy': 6872,\n",
       " 'pa': 5649,\n",
       " 'operate': 5555,\n",
       " 'after': 963,\n",
       " 'same': 6598,\n",
       " 'looking': 4711,\n",
       " 'job': 4303,\n",
       " 'ta': 7473,\n",
       " 'earn': 2824,\n",
       " 'ah': 984,\n",
       " 'stop': 7266,\n",
       " 'urgnt': 8058,\n",
       " 'real': 6271,\n",
       " 'yo': 8604,\n",
       " 'tickets': 7709,\n",
       " 'one': 5531,\n",
       " 'jacket': 4246,\n",
       " 'used': 8070,\n",
       " 'multis': 5195,\n",
       " 'started': 7213,\n",
       " 'requests': 6407,\n",
       " 'came': 1834,\n",
       " 'bed': 1455,\n",
       " 'coins': 2126,\n",
       " 'factory': 3094,\n",
       " 'gotta': 3600,\n",
       " 'nitros': 5362,\n",
       " 'ela': 2878,\n",
       " 'kano': 4375,\n",
       " 'il': 4053,\n",
       " 'download': 2738,\n",
       " 'wen': 8333,\n",
       " 'stand': 7201,\n",
       " 'close': 2084,\n",
       " 'another': 1106,\n",
       " 'night': 5346,\n",
       " 'spent': 7132,\n",
       " 'late': 4522,\n",
       " 'afternoon': 965,\n",
       " 'casualty': 1897,\n",
       " 'means': 4946,\n",
       " 'haven': 3771,\n",
       " 'any': 1120,\n",
       " 'stuff42moro': 7321,\n",
       " 'includes': 4095,\n",
       " 'sheets': 6797,\n",
       " 'smile': 6990,\n",
       " 'pleasure': 5882,\n",
       " 'trouble': 7880,\n",
       " 'pours': 5984,\n",
       " 'rain': 6216,\n",
       " 'sum1': 7379,\n",
       " 'hurts': 3998,\n",
       " 'becoz': 1453,\n",
       " 'someone': 7043,\n",
       " 'loves': 4748,\n",
       " 'smiling': 6994,\n",
       " 'service': 6746,\n",
       " 'representative': 6404,\n",
       " '0800': 53,\n",
       " '169': 366,\n",
       " '6031': 647,\n",
       " 'between': 1507,\n",
       " '10am': 307,\n",
       " '9pm': 835,\n",
       " 'guaranteed': 3666,\n",
       " '5000': 609,\n",
       " 'havent': 3772,\n",
       " 'planning': 5866,\n",
       " 'buy': 1783,\n",
       " 'lido': 4600,\n",
       " '530': 627,\n",
       " 'show': 6853,\n",
       " 'collected': 2135,\n",
       " 'simply': 6899,\n",
       " 'password': 5718,\n",
       " 'mix': 5070,\n",
       " '85069': 770,\n",
       " 'verify': 8126,\n",
       " 'usher': 8076,\n",
       " 'britney': 1712,\n",
       " 'fml': 3282,\n",
       " 'telugu': 7565,\n",
       " 'movie': 5157,\n",
       " 'abt': 867,\n",
       " 'loads': 4675,\n",
       " 'loans': 4677,\n",
       " 'wk': 8443,\n",
       " 'hols': 3899,\n",
       " 'run': 6555,\n",
       " 'forgot': 3321,\n",
       " 'hairdressers': 3708,\n",
       " 'appointment': 1159,\n",
       " 'four': 3339,\n",
       " 'shower': 6855,\n",
       " 'beforehand': 1467,\n",
       " 'cause': 1904,\n",
       " 'prob': 6078,\n",
       " 'ham': 3717,\n",
       " 'nothing': 5410,\n",
       " 'else': 2892,\n",
       " 'okay': 5505,\n",
       " 'price': 6054,\n",
       " 'long': 4703,\n",
       " 'legal': 4569,\n",
       " 'them': 7636,\n",
       " 'ave': 1307,\n",
       " 'ams': 1075,\n",
       " 'gone': 3572,\n",
       " '4the': 597,\n",
       " 'driving': 2769,\n",
       " 'test': 7589,\n",
       " 'yet': 8595,\n",
       " 'mean': 4942,\n",
       " 'guess': 3672,\n",
       " 'gave': 3470,\n",
       " 'boston': 1629,\n",
       " 'men': 4979,\n",
       " 'changed': 1945,\n",
       " 'search': 6677,\n",
       " 'location': 4680,\n",
       " 'nyc': 5451,\n",
       " 'cuz': 2410,\n",
       " 'signin': 6887,\n",
       " 'page': 5656,\n",
       " 'says': 6636,\n",
       " 'umma': 7970,\n",
       " 'life': 4603,\n",
       " 'vava': 8112,\n",
       " 'lot': 4727,\n",
       " 'dear': 2471,\n",
       " 'wishes': 8427,\n",
       " 'birthday': 1542,\n",
       " 'making': 4852,\n",
       " 'truly': 7889,\n",
       " 'memorable': 4976,\n",
       " 'aight': 994,\n",
       " 'hit': 3866,\n",
       " 'would': 8504,\n",
       " 'ip': 4188,\n",
       " 'address': 922,\n",
       " 'considering': 2227,\n",
       " 'computer': 2190,\n",
       " 'isn': 4213,\n",
       " 'minecraft': 5030,\n",
       " 'server': 6745,\n",
       " 'grumpy': 3660,\n",
       " 'old': 5517,\n",
       " 'people': 5762,\n",
       " 'better': 1504,\n",
       " 'lying': 4790,\n",
       " 'jokes': 4316,\n",
       " 'worry': 8494,\n",
       " 'busy': 1777,\n",
       " 'plural': 5891,\n",
       " 'noun': 5417,\n",
       " 'research': 6412,\n",
       " 'cos': 2276,\n",
       " 'things': 7659,\n",
       " 'scared': 6642,\n",
       " 'mah': 4835,\n",
       " 'loud': 4735,\n",
       " 'gent': 3492,\n",
       " 'contact': 2232,\n",
       " 'last': 4519,\n",
       " 'weekends': 8316,\n",
       " 'draw': 2752,\n",
       " 'shows': 6861,\n",
       " '09064012160': 243,\n",
       " 'k52': 4358,\n",
       " '12hrs': 333,\n",
       " '150ppm': 355,\n",
       " 'wa': 8207,\n",
       " 'openin': 5552,\n",
       " 'sentence': 6734,\n",
       " 'formal': 3325,\n",
       " 'anyway': 1132,\n",
       " 'juz': 4357,\n",
       " 'tt': 7904,\n",
       " 'eatin': 2837,\n",
       " 'puttin': 6171,\n",
       " 'weight': 8321,\n",
       " 'haha': 3702,\n",
       " 'anythin': 1128,\n",
       " 'happened': 3738,\n",
       " 'entered': 2939,\n",
       " 'cabin': 1801,\n",
       " 'boss': 1628,\n",
       " 'felt': 3167,\n",
       " 'askd': 1235,\n",
       " 'invited': 4181,\n",
       " 'apartment': 1137,\n",
       " 'went': 8336,\n",
       " 'specially': 7118,\n",
       " 'holiday': 3896,\n",
       " 'flights': 3258,\n",
       " 'inc': 4089,\n",
       " 'operator': 5556,\n",
       " '0871277810910p': 129,\n",
       " 'min': 5023,\n",
       " 'goodo': 3585,\n",
       " 'must': 5214,\n",
       " 'friday': 3376,\n",
       " 'potato': 5976,\n",
       " 'ratio': 6245,\n",
       " 'tortilla': 7814,\n",
       " 'needed': 5293,\n",
       " 'hmm': 3878,\n",
       " 'uncle': 7979,\n",
       " 'informed': 4125,\n",
       " 'paying': 5739,\n",
       " 'school': 6648,\n",
       " 'directly': 2630,\n",
       " 'food': 3298,\n",
       " 'private': 6070,\n",
       " '2004': 401,\n",
       " 'account': 889,\n",
       " 'statement': 7221,\n",
       " '07742676969': 32,\n",
       " '786': 709,\n",
       " 'unredeemed': 8023,\n",
       " 'points': 5921,\n",
       " '08719180248': 175,\n",
       " 'identifier': 4034,\n",
       " '45239': 570,\n",
       " 'expires': 3065,\n",
       " '2000': 399,\n",
       " 'caller': 1821,\n",
       " '03': 15,\n",
       " 'landline': 4499,\n",
       " '09064019788': 249,\n",
       " 'box42wr29c': 1655,\n",
       " 'apples': 1154,\n",
       " 'pairs': 5664,\n",
       " 'malarky': 4854,\n",
       " 'todays': 7764,\n",
       " 'voda': 8176,\n",
       " 'numbers': 5437,\n",
       " 'ending': 2915,\n",
       " '7548': 701,\n",
       " '350': 506,\n",
       " 'award': 1319,\n",
       " 'match': 4906,\n",
       " '08712300220': 111,\n",
       " 'quoting': 6204,\n",
       " '4041': 543,\n",
       " 'standard': 7202,\n",
       " 'rates': 6243,\n",
       " 'app': 1147,\n",
       " 'sao': 6607,\n",
       " 'mu': 5184,\n",
       " 'ìï': 8661,\n",
       " 'predict': 6016,\n",
       " 'buying': 1786,\n",
       " 'yetunde': 8597,\n",
       " 'hasn': 3759,\n",
       " 'sent': 6733,\n",
       " 'bother': 1632,\n",
       " 'sending': 6725,\n",
       " 'involve': 4185,\n",
       " 'shouldn': 6848,\n",
       " 'imposed': 4077,\n",
       " 'apologise': 1144,\n",
       " 'girl': 3526,\n",
       " 'del': 2511,\n",
       " 'bak': 1364,\n",
       " 'sum': 7378,\n",
       " 'lucyxx': 4773,\n",
       " 'tmorrow': 7749,\n",
       " 'accomodate': 885,\n",
       " 'answer': 1109,\n",
       " 'sunshine': 7395,\n",
       " 'quiz': 6200,\n",
       " 'top': 7805,\n",
       " 'sony': 7063,\n",
       " 'dvd': 2812,\n",
       " 'player': 5872,\n",
       " 'country': 2296,\n",
       " 'algarve': 1022,\n",
       " 'ansr': 1108,\n",
       " '82277': 744,\n",
       " 'sp': 7099,\n",
       " 'tyrone': 7950,\n",
       " 'laid': 4491,\n",
       " 'dogging': 2696,\n",
       " 'locations': 4681,\n",
       " 'direct': 2629,\n",
       " 'join': 4311,\n",
       " 'largest': 4516,\n",
       " 'bt': 1738,\n",
       " 'txting': 7939,\n",
       " 'gravel': 3628,\n",
       " '69888': 675,\n",
       " 'nt': 5427,\n",
       " 'ec2a': 2840,\n",
       " '31p': 498,\n",
       " 'haf': 3701,\n",
       " 'msn': 5175,\n",
       " 'yijue': 8601,\n",
       " 'hotmail': 3942,\n",
       " 'him': 3857,\n",
       " 'rooms': 6518,\n",
       " 'befor': 1465,\n",
       " 'activities': 910,\n",
       " 'msgs': 5174,\n",
       " 'chat': 1966,\n",
       " 'svc': 7430,\n",
       " 'hardcore': 3748,\n",
       " 'services': 6747,\n",
       " '69988': 679,\n",
       " 'age': 973,\n",
       " 'yr': 8627,\n",
       " 'lazy': 4542,\n",
       " 'type': 7947,\n",
       " 'lect': 4563,\n",
       " 'pouch': 5979,\n",
       " 'sir': 6914,\n",
       " 'mail': 4840,\n",
       " 'swt': 7459,\n",
       " 'nver': 5445,\n",
       " 'tired': 7729,\n",
       " 'little': 4660,\n",
       " 'lovable': 4739,\n",
       " 'persons': 5789,\n",
       " 'coz': 2309,\n",
       " 'somtimes': 7058,\n",
       " 'those': 7677,\n",
       " 'occupy': 5469,\n",
       " 'biggest': 1524,\n",
       " 'their': 7633,\n",
       " 'hearts': 3799,\n",
       " 'gud': 3668,\n",
       " 'ni8': 5336,\n",
       " 'open': 5549,\n",
       " 'ya': 8565,\n",
       " 'dot': 2729,\n",
       " 'whats': 8357,\n",
       " 'staff': 7193,\n",
       " 'taking': 7493,\n",
       " 'replied': 6397,\n",
       " 'randy': 6236,\n",
       " 'sexy': 6763,\n",
       " 'female': 3168,\n",
       " 'local': 4679,\n",
       " 'luv': 4781,\n",
       " 'netcollex': 5312,\n",
       " 'ltd': 4764,\n",
       " '08700621170150p': 81,\n",
       " 'ummma': 7972,\n",
       " 'begin': 1471,\n",
       " 'qatar': 6177,\n",
       " 'pray': 6011,\n",
       " 'hard': 3747,\n",
       " 'deleted': 2515,\n",
       " 'sindu': 6904,\n",
       " 'birla': 1538,\n",
       " 'soft': 7029,\n",
       " 'wine': 8412,\n",
       " 'flowing': 3273,\n",
       " 'nevering': 5322,\n",
       " 'thk': 7670,\n",
       " 'plaza': 5877,\n",
       " 'typical': 7949,\n",
       " 'everywhere': 3016,\n",
       " 'dirt': 2633,\n",
       " 'floor': 3267,\n",
       " 'windows': 8409,\n",
       " 'shirt': 6816,\n",
       " 'sometimes': 7051,\n",
       " 'mouth': 5153,\n",
       " 'dream': 2755,\n",
       " 'without': 8437,\n",
       " 'chores': 2037,\n",
       " 'joy': 4329,\n",
       " 'lots': 4729,\n",
       " 'tv': 7922,\n",
       " 'exist': 3050,\n",
       " ...}"
      ]
     },
     "execution_count": 40,
     "metadata": {},
     "output_type": "execute_result"
    }
   ],
   "source": [
    "from sklearn.feature_extraction.text import CountVectorizer\n",
    "cv= CountVectorizer()\n",
    "\n",
    "x=cv.fit(df['text'])\n",
    "x.vocabulary_"
   ]
  },
  {
   "cell_type": "markdown",
   "metadata": {},
   "source": [
    "# Splitting data into training tesing set"
   ]
  },
  {
   "cell_type": "code",
   "execution_count": 16,
   "metadata": {},
   "outputs": [],
   "source": [
    "#splitting the data into 80:20 train test ratio for dataset vectorized using tf-idfvectorizer\n",
    "from sklearn.model_selection import train_test_split\n",
    "X_train,X_test,y_train,y_test=train_test_split(message,df['type'],test_size=0.2,random_state=0)"
   ]
  },
  {
   "cell_type": "code",
   "execution_count": 17,
   "metadata": {},
   "outputs": [
    {
     "name": "stdout",
     "output_type": "stream",
     "text": [
      "(1034, 90)\n",
      "\n",
      "\n",
      "(1034,)\n"
     ]
    }
   ],
   "source": [
    "print(X_test.shape)\n",
    "print(\"\\n\")\n",
    "print(y_test.shape)"
   ]
  },
  {
   "cell_type": "code",
   "execution_count": 18,
   "metadata": {},
   "outputs": [
    {
     "name": "stdout",
     "output_type": "stream",
     "text": [
      "  (0, 7)\t0.3625452623439068\n",
      "  (0, 44)\t0.144829610535866\n",
      "  (0, 9)\t0.16446114926758248\n",
      "  (0, 60)\t0.14194131375899668\n",
      "  (0, 6)\t0.3392171643214396\n",
      "  (0, 1)\t0.31990103137765163\n",
      "  (0, 61)\t0.09786089038797229\n",
      "  (0, 55)\t0.06797958769466309\n",
      "  (0, 42)\t0.10239636506506432\n",
      "  (0, 40)\t0.1471038347766992\n",
      "  (0, 59)\t0.08524905644507563\n",
      "  (0, 41)\t0.0563364086282098\n",
      "  (0, 37)\t0.23179701477424242\n",
      "  (0, 56)\t0.238131859782918\n",
      "  (0, 52)\t0.08272982016355772\n",
      "  (0, 43)\t0.07940949722762769\n",
      "  (0, 50)\t0.18905253838537356\n",
      "  (0, 57)\t0.07653485184614912\n",
      "  (0, 0)\t0.5201318409575215\n",
      "  (0, 51)\t0.3008313873235486\n",
      "  (1, 28)\t0.1657745866741998\n",
      "  (1, 44)\t0.1294441584680386\n",
      "  (1, 31)\t0.4580478863062214\n",
      "  (1, 5)\t0.09719356883043223\n",
      "  (1, 60)\t0.5074507579879488\n",
      "  :\t:\n",
      "  (1032, 59)\t0.09730994328255434\n",
      "  (1032, 41)\t0.19292035444002517\n",
      "  (1032, 38)\t0.22019168856541277\n",
      "  (1032, 48)\t0.22442583684010745\n",
      "  (1032, 37)\t0.3307390618346528\n",
      "  (1032, 39)\t0.170642469188339\n",
      "  (1032, 56)\t0.2718223372263903\n",
      "  (1032, 45)\t0.2115778154640361\n",
      "  (1032, 43)\t0.18128842695860645\n",
      "  (1032, 50)\t0.2157993596041297\n",
      "  (1032, 54)\t0.21812202205665884\n",
      "  (1032, 0)\t0.4749753445131597\n",
      "  (1032, 51)\t0.34339248384440785\n",
      "  (1033, 7)\t0.47813131218235705\n",
      "  (1033, 49)\t0.19608150784120426\n",
      "  (1033, 42)\t0.27008439208244805\n",
      "  (1033, 40)\t0.19400322347095186\n",
      "  (1033, 38)\t0.254400660807342\n",
      "  (1033, 39)\t0.19715347661913943\n",
      "  (1033, 56)\t0.15702632252635368\n",
      "  (1033, 45)\t0.16296569114213588\n",
      "  (1033, 43)\t0.20945338997794236\n",
      "  (1033, 50)\t0.16621729319204137\n",
      "  (1033, 0)\t0.41157562178639984\n",
      "  (1033, 51)\t0.47609031226629545\n"
     ]
    }
   ],
   "source": [
    "print(X_test)"
   ]
  },
  {
   "cell_type": "code",
   "execution_count": 19,
   "metadata": {},
   "outputs": [
    {
     "name": "stdout",
     "output_type": "stream",
     "text": [
      "1851    ham\n",
      "2375    ham\n",
      "2743    ham\n",
      "3324    ham\n",
      "3995    ham\n",
      "       ... \n",
      "2237    ham\n",
      "4368    ham\n",
      "3046    ham\n",
      "4263    ham\n",
      "2674    ham\n",
      "Name: type, Length: 1034, dtype: object\n"
     ]
    }
   ],
   "source": [
    "print(y_test)"
   ]
  },
  {
   "cell_type": "code",
   "execution_count": 20,
   "metadata": {},
   "outputs": [],
   "source": [
    "#splitting the data into 80:20 train test ratio for dataset vectorized using countvectorizer\n",
    "from sklearn.model_selection import train_test_split\n",
    "X_train1,X_test1,y_train1,y_test1=train_test_split(message1,df['type'],test_size=0.2,random_state=0)"
   ]
  },
  {
   "cell_type": "code",
   "execution_count": 21,
   "metadata": {},
   "outputs": [
    {
     "name": "stdout",
     "output_type": "stream",
     "text": [
      "  (0, 51)\t5\n",
      "  (0, 0)\t10\n",
      "  (0, 57)\t1\n",
      "  (0, 50)\t3\n",
      "  (0, 43)\t1\n",
      "  (0, 52)\t1\n",
      "  (0, 56)\t4\n",
      "  (0, 37)\t4\n",
      "  (0, 41)\t1\n",
      "  (0, 59)\t1\n",
      "  (0, 40)\t2\n",
      "  (0, 42)\t1\n",
      "  (0, 55)\t1\n",
      "  (0, 61)\t1\n",
      "  (0, 1)\t2\n",
      "  (0, 6)\t2\n",
      "  (0, 60)\t1\n",
      "  (0, 9)\t1\n",
      "  (0, 44)\t2\n",
      "  (0, 7)\t2\n",
      "  (1, 51)\t3\n",
      "  (1, 0)\t16\n",
      "  (1, 57)\t2\n",
      "  (1, 54)\t5\n",
      "  (1, 50)\t3\n",
      "  :\t:\n",
      "  (1032, 43)\t2\n",
      "  (1032, 45)\t3\n",
      "  (1032, 56)\t4\n",
      "  (1032, 39)\t2\n",
      "  (1032, 37)\t5\n",
      "  (1032, 48)\t3\n",
      "  (1032, 38)\t2\n",
      "  (1032, 41)\t3\n",
      "  (1032, 59)\t1\n",
      "  (1032, 40)\t1\n",
      "  (1032, 42)\t1\n",
      "  (1032, 47)\t1\n",
      "  (1032, 55)\t4\n",
      "  (1033, 51)\t3\n",
      "  (1033, 0)\t3\n",
      "  (1033, 50)\t1\n",
      "  (1033, 43)\t1\n",
      "  (1033, 45)\t1\n",
      "  (1033, 56)\t1\n",
      "  (1033, 39)\t1\n",
      "  (1033, 38)\t1\n",
      "  (1033, 40)\t1\n",
      "  (1033, 42)\t1\n",
      "  (1033, 49)\t1\n",
      "  (1033, 7)\t1\n"
     ]
    }
   ],
   "source": [
    "print(X_test1)\n"
   ]
  },
  {
   "cell_type": "code",
   "execution_count": 22,
   "metadata": {},
   "outputs": [
    {
     "name": "stdout",
     "output_type": "stream",
     "text": [
      "1851    ham\n",
      "2375    ham\n",
      "2743    ham\n",
      "3324    ham\n",
      "3995    ham\n",
      "       ... \n",
      "2237    ham\n",
      "4368    ham\n",
      "3046    ham\n",
      "4263    ham\n",
      "2674    ham\n",
      "Name: type, Length: 1034, dtype: object\n"
     ]
    }
   ],
   "source": [
    "print(y_test1)"
   ]
  },
  {
   "cell_type": "markdown",
   "metadata": {},
   "source": [
    "# Feeding Data and classification report of Naive Bayes classifier "
   ]
  },
  {
   "cell_type": "code",
   "execution_count": 25,
   "metadata": {},
   "outputs": [],
   "source": [
    "#creating and training the naive bayes classifier for for dataset vectorized using tf-idfvectorizer\n",
    "from sklearn.naive_bayes import MultinomialNB\n",
    "classifier=MultinomialNB().fit(X_train,y_train)"
   ]
  },
  {
   "cell_type": "code",
   "execution_count": 38,
   "metadata": {},
   "outputs": [
    {
     "name": "stdout",
     "output_type": "stream",
     "text": [
      "['ham' 'ham' 'ham' ... 'ham' 'ham' 'ham']\n",
      "\n",
      "['ham' 'ham' 'ham' ... 'ham' 'ham' 'ham']\n"
     ]
    }
   ],
   "source": [
    "print(classifier.predict(X_train))\n",
    "\n",
    "print()\n",
    "print(y_train.values)\n"
   ]
  },
  {
   "cell_type": "code",
   "execution_count": 26,
   "metadata": {},
   "outputs": [
    {
     "name": "stdout",
     "output_type": "stream",
     "text": [
      "              precision    recall  f1-score   support\n",
      "\n",
      "         ham       0.97      0.99      0.98      3631\n",
      "        spam       0.95      0.76      0.84       504\n",
      "\n",
      "    accuracy                           0.97      4135\n",
      "   macro avg       0.96      0.88      0.91      4135\n",
      "weighted avg       0.96      0.97      0.96      4135\n",
      "\n",
      "\n",
      "confusion Matrix:\n",
      " [[3611   20]\n",
      " [ 123  381]]\n",
      "\n",
      " training accuracy score:\n",
      " 0.9654171704957678\n"
     ]
    }
   ],
   "source": [
    "#evaluate the model and training dataset\n",
    "from sklearn.metrics import classification_report,confusion_matrix,accuracy_score\n",
    "pred=classifier.predict(X_train)\n",
    "print(classification_report(y_train,pred))\n",
    "print()\n",
    "print('confusion Matrix:\\n',confusion_matrix(y_train,pred))\n",
    "print()\n",
    "print(' training accuracy score:\\n',accuracy_score(y_train,pred))\n"
   ]
  },
  {
   "cell_type": "code",
   "execution_count": 27,
   "metadata": {},
   "outputs": [
    {
     "name": "stdout",
     "output_type": "stream",
     "text": [
      "              precision    recall  f1-score   support\n",
      "\n",
      "         ham       0.96      1.00      0.98       885\n",
      "        spam       0.99      0.73      0.84       149\n",
      "\n",
      "    accuracy                           0.96      1034\n",
      "   macro avg       0.97      0.87      0.91      1034\n",
      "weighted avg       0.96      0.96      0.96      1034\n",
      "\n",
      "\n",
      "confusion Matrix:\n",
      " [[884   1]\n",
      " [ 40 109]]\n",
      "\n",
      "testing accuracy score:\n",
      " 0.960348162475822\n"
     ]
    }
   ],
   "source": [
    "#printing the predictions\n",
    "from sklearn.metrics import classification_report,confusion_matrix,accuracy_score\n",
    "pred=classifier.predict(X_test)\n",
    "print(classification_report(y_test,pred))\n",
    "print()\n",
    "print('confusion Matrix:\\n',confusion_matrix(y_test,pred))\n",
    "print()\n",
    "print('testing accuracy score:\\n',accuracy_score(y_test,pred))\n"
   ]
  },
  {
   "cell_type": "code",
   "execution_count": 28,
   "metadata": {},
   "outputs": [],
   "source": [
    "#creating and training the naive bayes classifier for for dataset vectorized using countvectorizer\n",
    "from sklearn.naive_bayes import MultinomialNB\n",
    "classifier1=MultinomialNB().fit(X_train1,y_train1)"
   ]
  },
  {
   "cell_type": "code",
   "execution_count": 29,
   "metadata": {},
   "outputs": [
    {
     "name": "stdout",
     "output_type": "stream",
     "text": [
      "              precision    recall  f1-score   support\n",
      "\n",
      "         ham       0.98      0.98      0.98      3631\n",
      "        spam       0.88      0.86      0.87       504\n",
      "\n",
      "    accuracy                           0.97      4135\n",
      "   macro avg       0.93      0.92      0.93      4135\n",
      "weighted avg       0.97      0.97      0.97      4135\n",
      "\n",
      "\n",
      "confusion Matrix:\n",
      " [[3572   59]\n",
      " [  72  432]]\n",
      "\n",
      " training accuracy score:\n",
      " 0.9683192261185006\n"
     ]
    }
   ],
   "source": [
    "#evaluate the model and training dataset\n",
    "from sklearn.metrics import classification_report,confusion_matrix,accuracy_score\n",
    "pred1=classifier1.predict(X_train1)\n",
    "print(classification_report(y_train1,pred1))\n",
    "print()\n",
    "print('confusion Matrix:\\n',confusion_matrix(y_train1,pred1))\n",
    "print()\n",
    "print(' training accuracy score:\\n',accuracy_score(y_train1,pred1))"
   ]
  },
  {
   "cell_type": "code",
   "execution_count": 30,
   "metadata": {},
   "outputs": [
    {
     "name": "stdout",
     "output_type": "stream",
     "text": [
      "              precision    recall  f1-score   support\n",
      "\n",
      "         ham       0.97      0.98      0.98       885\n",
      "        spam       0.90      0.82      0.86       149\n",
      "\n",
      "    accuracy                           0.96      1034\n",
      "   macro avg       0.93      0.90      0.92      1034\n",
      "weighted avg       0.96      0.96      0.96      1034\n",
      "\n",
      "\n",
      "confusion Matrix:\n",
      " [[871  14]\n",
      " [ 27 122]]\n",
      "\n",
      "testing accuracy score:\n",
      " 0.960348162475822\n"
     ]
    }
   ],
   "source": [
    "#prediction from the model\n",
    "from sklearn.metrics import classification_report,confusion_matrix,accuracy_score\n",
    "pred1_test=classifier1.predict(X_test1)\n",
    "print(classification_report(y_test1,pred1_test))\n",
    "print()\n",
    "print('confusion Matrix:\\n',confusion_matrix(y_test1,pred1_test))\n",
    "print()\n",
    "print('testing accuracy score:\\n',accuracy_score(y_test1,pred1_test))\n"
   ]
  },
  {
   "cell_type": "markdown",
   "metadata": {},
   "source": [
    "# Finding accuracy using 5-fold cross-validation"
   ]
  },
  {
   "cell_type": "code",
   "execution_count": 36,
   "metadata": {},
   "outputs": [],
   "source": [
    "#import library and building 5-fold cross validation \n",
    "from sklearn.model_selection import KFold,cross_val_score\n",
    "k_fold=KFold(len(df['type']),n_splits=5,shuffle=True,random_state=0)\n",
    "clf=MultinomialNB()"
   ]
  },
  {
   "cell_type": "code",
   "execution_count": 37,
   "metadata": {},
   "outputs": [
    {
     "data": {
      "text/plain": [
       "96.51770168311086"
      ]
     },
     "execution_count": 37,
     "metadata": {},
     "output_type": "execute_result"
    }
   ],
   "source": [
    "#printing the cross validation accuray for for dataset vectorized using tf-idfvectorizer\n",
    "accuracy=cross_val_score(clf,message,df['type'],cv=k_fold,n_jobs=1)\n",
    "accuracy.mean()*100"
   ]
  },
  {
   "cell_type": "code",
   "execution_count": 38,
   "metadata": {},
   "outputs": [
    {
     "data": {
      "text/plain": [
       "96.65312439543432"
      ]
     },
     "execution_count": 38,
     "metadata": {},
     "output_type": "execute_result"
    }
   ],
   "source": [
    "#printing the cross validation accuray for for dataset vectorized using countvectorizer\n",
    "accuracy1=cross_val_score(clf,message1,df['type'],cv=k_fold,n_jobs=1)\n",
    "accuracy1.mean()*100"
   ]
  },
  {
   "cell_type": "markdown",
   "metadata": {},
   "source": [
    "# Using support-vector-machine Algorithm"
   ]
  },
  {
   "cell_type": "code",
   "execution_count": 39,
   "metadata": {},
   "outputs": [
    {
     "name": "stderr",
     "output_type": "stream",
     "text": [
      "c:\\users\\hp\\appdata\\local\\programs\\python\\python38\\lib\\site-packages\\sklearn\\svm\\_base.py:976: ConvergenceWarning: Liblinear failed to converge, increase the number of iterations.\n",
      "  warnings.warn(\"Liblinear failed to converge, increase \"\n"
     ]
    },
    {
     "data": {
      "text/plain": [
       "GridSearchCV(estimator=LinearSVC(), param_grid={'C': [0.1, 1, 10, 100]})"
      ]
     },
     "execution_count": 39,
     "metadata": {},
     "output_type": "execute_result"
    }
   ],
   "source": [
    "#prediction using LinearSVC and GridsearchCV and tokens obtained fron TfidfVectorizer\n",
    "from sklearn.svm import LinearSVC\n",
    "from sklearn.model_selection import GridSearchCV\n",
    "param_grid={'C':[0.1,1,10,100]}\n",
    "grid=GridSearchCV(LinearSVC(),param_grid,refit=True)\n",
    "grid.fit(X_train,y_train)"
   ]
  },
  {
   "cell_type": "code",
   "execution_count": 35,
   "metadata": {},
   "outputs": [
    {
     "name": "stdout",
     "output_type": "stream",
     "text": [
      "{'C': 100}\n"
     ]
    }
   ],
   "source": [
    "#finding best C for best parameter\n",
    "print(grid.best_params_)"
   ]
  },
  {
   "cell_type": "code",
   "execution_count": 36,
   "metadata": {},
   "outputs": [
    {
     "name": "stdout",
     "output_type": "stream",
     "text": [
      "0.9784764207980652\n"
     ]
    }
   ],
   "source": [
    "#finding best accuracy\n",
    "print(grid.best_score_)"
   ]
  },
  {
   "cell_type": "code",
   "execution_count": 37,
   "metadata": {},
   "outputs": [],
   "source": [
    "#prediction of test data\n",
    "pred2=grid.predict(X_test)"
   ]
  },
  {
   "cell_type": "code",
   "execution_count": 38,
   "metadata": {},
   "outputs": [
    {
     "name": "stdout",
     "output_type": "stream",
     "text": [
      "              precision    recall  f1-score   support\n",
      "\n",
      "         ham       0.97      1.00      0.98       885\n",
      "        spam       0.97      0.85      0.90       149\n",
      "\n",
      "    accuracy                           0.97      1034\n",
      "   macro avg       0.97      0.92      0.94      1034\n",
      "weighted avg       0.97      0.97      0.97      1034\n",
      "\n",
      "\n",
      "confusion Matrix:\n",
      " [[881   4]\n",
      " [ 23 126]]\n",
      "\n",
      "accuracy score:\n",
      " 0.9738878143133463\n"
     ]
    }
   ],
   "source": [
    "#evaluate the model and training dataset\n",
    "from sklearn.metrics import classification_report,confusion_matrix,accuracy_score\n",
    "print(classification_report(y_test,pred2))\n",
    "print()\n",
    "print('confusion Matrix:\\n',confusion_matrix(y_test,pred2))\n",
    "print()\n",
    "print('accuracy score:\\n',accuracy_score(y_test,pred2))"
   ]
  },
  {
   "cell_type": "code",
   "execution_count": 39,
   "metadata": {},
   "outputs": [
    {
     "name": "stderr",
     "output_type": "stream",
     "text": [
      "c:\\users\\hp\\appdata\\local\\programs\\python\\python38\\lib\\site-packages\\sklearn\\svm\\_base.py:976: ConvergenceWarning: Liblinear failed to converge, increase the number of iterations.\n",
      "  warnings.warn(\"Liblinear failed to converge, increase \"\n"
     ]
    },
    {
     "data": {
      "text/plain": [
       "GridSearchCV(estimator=LinearSVC(), param_grid={'C': [0.1, 1, 10, 100]})"
      ]
     },
     "execution_count": 39,
     "metadata": {},
     "output_type": "execute_result"
    }
   ],
   "source": [
    "#prediction using LinearSVC and GridsearchCV and tokens obtained fron CountVectorizer\n",
    "from sklearn.svm import LinearSVC\n",
    "from sklearn.model_selection import GridSearchCV\n",
    "param_grid={'C':[0.1,1,10,100]}\n",
    "grid=GridSearchCV(LinearSVC(),param_grid,refit=True)\n",
    "grid.fit(X_train1,y_train1)"
   ]
  },
  {
   "cell_type": "code",
   "execution_count": 40,
   "metadata": {},
   "outputs": [
    {
     "name": "stdout",
     "output_type": "stream",
     "text": [
      "{'C': 0.1}\n"
     ]
    }
   ],
   "source": [
    "#finding best C for best parameter\n",
    "print(grid.best_params_)"
   ]
  },
  {
   "cell_type": "code",
   "execution_count": 41,
   "metadata": {},
   "outputs": [
    {
     "name": "stdout",
     "output_type": "stream",
     "text": [
      "0.9799274486094317\n"
     ]
    }
   ],
   "source": [
    "#finding best accuracy\n",
    "print(grid.best_score_)"
   ]
  },
  {
   "cell_type": "code",
   "execution_count": 45,
   "metadata": {},
   "outputs": [
    {
     "name": "stderr",
     "output_type": "stream",
     "text": [
      "c:\\users\\hp\\appdata\\local\\programs\\python\\python38\\lib\\site-packages\\sklearn\\svm\\_base.py:976: ConvergenceWarning: Liblinear failed to converge, increase the number of iterations.\n",
      "  warnings.warn(\"Liblinear failed to converge, increase \"\n"
     ]
    },
    {
     "data": {
      "text/plain": [
       "GridSearchCV(estimator=LinearSVC(), param_grid={'C': [0.1, 1, 10, 100]})"
      ]
     },
     "execution_count": 45,
     "metadata": {},
     "output_type": "execute_result"
    }
   ],
   "source": [
    "#training teh dataset\n",
    "grid.fit(X_train1,y_train1)"
   ]
  },
  {
   "cell_type": "code",
   "execution_count": 46,
   "metadata": {},
   "outputs": [],
   "source": [
    "#prediction of test data\n",
    "pred3=grid.predict(X_test1)"
   ]
  },
  {
   "cell_type": "code",
   "execution_count": 47,
   "metadata": {},
   "outputs": [
    {
     "name": "stdout",
     "output_type": "stream",
     "text": [
      "              precision    recall  f1-score   support\n",
      "\n",
      "         ham       0.98      1.00      0.99       885\n",
      "        spam       0.98      0.87      0.92       149\n",
      "\n",
      "    accuracy                           0.98      1034\n",
      "   macro avg       0.98      0.93      0.95      1034\n",
      "weighted avg       0.98      0.98      0.98      1034\n",
      "\n",
      "\n",
      "confusion Matrix:\n",
      " [[883   2]\n",
      " [ 20 129]]\n",
      "\n",
      "accuracy score:\n",
      " 0.9787234042553191\n"
     ]
    }
   ],
   "source": [
    "#evaluate the model and training dataset\n",
    "from sklearn.metrics import classification_report,confusion_matrix,accuracy_score\n",
    "print(classification_report(y_test1,pred3))\n",
    "print()\n",
    "print('confusion Matrix:\\n',confusion_matrix(y_test1,pred3))\n",
    "print()\n",
    "print('accuracy score:\\n',accuracy_score(y_test1,pred3))"
   ]
  }
 ],
 "metadata": {
  "kernelspec": {
   "display_name": "Python 3",
   "language": "python",
   "name": "python3"
  },
  "language_info": {
   "codemirror_mode": {
    "name": "ipython",
    "version": 3
   },
   "file_extension": ".py",
   "mimetype": "text/x-python",
   "name": "python",
   "nbconvert_exporter": "python",
   "pygments_lexer": "ipython3",
   "version": "3.8.1"
  }
 },
 "nbformat": 4,
 "nbformat_minor": 4
}
